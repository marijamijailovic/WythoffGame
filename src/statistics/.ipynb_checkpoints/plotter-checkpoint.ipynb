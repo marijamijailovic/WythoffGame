{
 "cells": [
  {
   "cell_type": "code",
   "execution_count": 1,
   "metadata": {},
   "outputs": [],
   "source": [
    "import pandas as pd"
   ]
  },
  {
   "cell_type": "code",
   "execution_count": 2,
   "metadata": {},
   "outputs": [
    {
     "name": "stdout",
     "output_type": "stream",
     "text": [
      "<class 'pandas.core.frame.DataFrame'>\n",
      "RangeIndex: 27 entries, 0 to 26\n",
      "Data columns (total 4 columns):\n",
      "n             27 non-null int64\n",
      "recursive     15 non-null float64\n",
      "algebraic     27 non-null float64\n",
      "arithmetic    22 non-null float64\n",
      "dtypes: float64(3), int64(1)\n",
      "memory usage: 944.0 bytes\n"
     ]
    }
   ],
   "source": [
    "measurment = pd.read_csv('statistics.csv')\n",
    "measurment.info()"
   ]
  },
  {
   "cell_type": "code",
   "execution_count": 4,
   "metadata": {},
   "outputs": [
    {
     "data": {
      "text/html": [
       "<div>\n",
       "<style scoped>\n",
       "    .dataframe tbody tr th:only-of-type {\n",
       "        vertical-align: middle;\n",
       "    }\n",
       "\n",
       "    .dataframe tbody tr th {\n",
       "        vertical-align: top;\n",
       "    }\n",
       "\n",
       "    .dataframe thead th {\n",
       "        text-align: right;\n",
       "    }\n",
       "</style>\n",
       "<table border=\"1\" class=\"dataframe\">\n",
       "  <thead>\n",
       "    <tr style=\"text-align: right;\">\n",
       "      <th></th>\n",
       "      <th>n</th>\n",
       "      <th>recursive</th>\n",
       "      <th>algebraic</th>\n",
       "      <th>arithmetic</th>\n",
       "    </tr>\n",
       "  </thead>\n",
       "  <tbody>\n",
       "    <tr>\n",
       "      <th>0</th>\n",
       "      <td>10</td>\n",
       "      <td>3.869900e-02</td>\n",
       "      <td>0.006300</td>\n",
       "      <td>0.036332</td>\n",
       "    </tr>\n",
       "    <tr>\n",
       "      <th>1</th>\n",
       "      <td>20</td>\n",
       "      <td>1.006790e-01</td>\n",
       "      <td>0.005022</td>\n",
       "      <td>0.066619</td>\n",
       "    </tr>\n",
       "    <tr>\n",
       "      <th>2</th>\n",
       "      <td>40</td>\n",
       "      <td>3.887320e-01</td>\n",
       "      <td>0.006737</td>\n",
       "      <td>0.136543</td>\n",
       "    </tr>\n",
       "    <tr>\n",
       "      <th>3</th>\n",
       "      <td>80</td>\n",
       "      <td>1.318030e+00</td>\n",
       "      <td>0.009223</td>\n",
       "      <td>0.236130</td>\n",
       "    </tr>\n",
       "    <tr>\n",
       "      <th>4</th>\n",
       "      <td>160</td>\n",
       "      <td>5.443370e+00</td>\n",
       "      <td>0.016310</td>\n",
       "      <td>0.471463</td>\n",
       "    </tr>\n",
       "    <tr>\n",
       "      <th>5</th>\n",
       "      <td>320</td>\n",
       "      <td>2.157180e+01</td>\n",
       "      <td>0.025514</td>\n",
       "      <td>1.004520</td>\n",
       "    </tr>\n",
       "    <tr>\n",
       "      <th>6</th>\n",
       "      <td>640</td>\n",
       "      <td>9.235510e+01</td>\n",
       "      <td>0.042335</td>\n",
       "      <td>2.142080</td>\n",
       "    </tr>\n",
       "    <tr>\n",
       "      <th>7</th>\n",
       "      <td>1280</td>\n",
       "      <td>3.938340e+02</td>\n",
       "      <td>0.112218</td>\n",
       "      <td>4.389580</td>\n",
       "    </tr>\n",
       "    <tr>\n",
       "      <th>8</th>\n",
       "      <td>2560</td>\n",
       "      <td>1.712270e+03</td>\n",
       "      <td>0.211089</td>\n",
       "      <td>9.757330</td>\n",
       "    </tr>\n",
       "    <tr>\n",
       "      <th>9</th>\n",
       "      <td>5120</td>\n",
       "      <td>7.228810e+03</td>\n",
       "      <td>0.241351</td>\n",
       "      <td>20.414600</td>\n",
       "    </tr>\n",
       "    <tr>\n",
       "      <th>10</th>\n",
       "      <td>10240</td>\n",
       "      <td>3.621210e+04</td>\n",
       "      <td>0.699545</td>\n",
       "      <td>65.040500</td>\n",
       "    </tr>\n",
       "    <tr>\n",
       "      <th>11</th>\n",
       "      <td>20480</td>\n",
       "      <td>1.855000e+05</td>\n",
       "      <td>1.987250</td>\n",
       "      <td>133.489000</td>\n",
       "    </tr>\n",
       "    <tr>\n",
       "      <th>12</th>\n",
       "      <td>40960</td>\n",
       "      <td>8.011450e+05</td>\n",
       "      <td>3.657460</td>\n",
       "      <td>279.822000</td>\n",
       "    </tr>\n",
       "    <tr>\n",
       "      <th>13</th>\n",
       "      <td>81920</td>\n",
       "      <td>3.390690e+06</td>\n",
       "      <td>8.417510</td>\n",
       "      <td>590.845000</td>\n",
       "    </tr>\n",
       "    <tr>\n",
       "      <th>14</th>\n",
       "      <td>163840</td>\n",
       "      <td>1.437070e+07</td>\n",
       "      <td>16.758200</td>\n",
       "      <td>1235.280000</td>\n",
       "    </tr>\n",
       "    <tr>\n",
       "      <th>15</th>\n",
       "      <td>327680</td>\n",
       "      <td>NaN</td>\n",
       "      <td>17.850000</td>\n",
       "      <td>1684.460000</td>\n",
       "    </tr>\n",
       "    <tr>\n",
       "      <th>16</th>\n",
       "      <td>655360</td>\n",
       "      <td>NaN</td>\n",
       "      <td>30.343300</td>\n",
       "      <td>3487.310000</td>\n",
       "    </tr>\n",
       "    <tr>\n",
       "      <th>17</th>\n",
       "      <td>1310720</td>\n",
       "      <td>NaN</td>\n",
       "      <td>60.954300</td>\n",
       "      <td>8186.190000</td>\n",
       "    </tr>\n",
       "    <tr>\n",
       "      <th>18</th>\n",
       "      <td>2621440</td>\n",
       "      <td>NaN</td>\n",
       "      <td>133.610000</td>\n",
       "      <td>17698.400000</td>\n",
       "    </tr>\n",
       "    <tr>\n",
       "      <th>19</th>\n",
       "      <td>5242880</td>\n",
       "      <td>NaN</td>\n",
       "      <td>390.024000</td>\n",
       "      <td>46553.900000</td>\n",
       "    </tr>\n",
       "    <tr>\n",
       "      <th>20</th>\n",
       "      <td>10485760</td>\n",
       "      <td>NaN</td>\n",
       "      <td>1104.320000</td>\n",
       "      <td>96394.500000</td>\n",
       "    </tr>\n",
       "    <tr>\n",
       "      <th>21</th>\n",
       "      <td>20971520</td>\n",
       "      <td>NaN</td>\n",
       "      <td>2335.120000</td>\n",
       "      <td>253872.000000</td>\n",
       "    </tr>\n",
       "    <tr>\n",
       "      <th>22</th>\n",
       "      <td>41943040</td>\n",
       "      <td>NaN</td>\n",
       "      <td>512000.000000</td>\n",
       "      <td>NaN</td>\n",
       "    </tr>\n",
       "    <tr>\n",
       "      <th>23</th>\n",
       "      <td>83886080</td>\n",
       "      <td>NaN</td>\n",
       "      <td>5283.570000</td>\n",
       "      <td>NaN</td>\n",
       "    </tr>\n",
       "    <tr>\n",
       "      <th>24</th>\n",
       "      <td>167772160</td>\n",
       "      <td>NaN</td>\n",
       "      <td>12495.300000</td>\n",
       "      <td>NaN</td>\n",
       "    </tr>\n",
       "    <tr>\n",
       "      <th>25</th>\n",
       "      <td>335544320</td>\n",
       "      <td>NaN</td>\n",
       "      <td>24782.300000</td>\n",
       "      <td>NaN</td>\n",
       "    </tr>\n",
       "    <tr>\n",
       "      <th>26</th>\n",
       "      <td>671088640</td>\n",
       "      <td>NaN</td>\n",
       "      <td>422709.000000</td>\n",
       "      <td>NaN</td>\n",
       "    </tr>\n",
       "  </tbody>\n",
       "</table>\n",
       "</div>"
      ],
      "text/plain": [
       "            n     recursive      algebraic     arithmetic\n",
       "0          10  3.869900e-02       0.006300       0.036332\n",
       "1          20  1.006790e-01       0.005022       0.066619\n",
       "2          40  3.887320e-01       0.006737       0.136543\n",
       "3          80  1.318030e+00       0.009223       0.236130\n",
       "4         160  5.443370e+00       0.016310       0.471463\n",
       "5         320  2.157180e+01       0.025514       1.004520\n",
       "6         640  9.235510e+01       0.042335       2.142080\n",
       "7        1280  3.938340e+02       0.112218       4.389580\n",
       "8        2560  1.712270e+03       0.211089       9.757330\n",
       "9        5120  7.228810e+03       0.241351      20.414600\n",
       "10      10240  3.621210e+04       0.699545      65.040500\n",
       "11      20480  1.855000e+05       1.987250     133.489000\n",
       "12      40960  8.011450e+05       3.657460     279.822000\n",
       "13      81920  3.390690e+06       8.417510     590.845000\n",
       "14     163840  1.437070e+07      16.758200    1235.280000\n",
       "15     327680           NaN      17.850000    1684.460000\n",
       "16     655360           NaN      30.343300    3487.310000\n",
       "17    1310720           NaN      60.954300    8186.190000\n",
       "18    2621440           NaN     133.610000   17698.400000\n",
       "19    5242880           NaN     390.024000   46553.900000\n",
       "20   10485760           NaN    1104.320000   96394.500000\n",
       "21   20971520           NaN    2335.120000  253872.000000\n",
       "22   41943040           NaN  512000.000000            NaN\n",
       "23   83886080           NaN    5283.570000            NaN\n",
       "24  167772160           NaN   12495.300000            NaN\n",
       "25  335544320           NaN   24782.300000            NaN\n",
       "26  671088640           NaN  422709.000000            NaN"
      ]
     },
     "execution_count": 4,
     "metadata": {},
     "output_type": "execute_result"
    }
   ],
   "source": [
    "measurment"
   ]
  },
  {
   "cell_type": "code",
   "execution_count": 5,
   "metadata": {},
   "outputs": [],
   "source": [
    "import matplotlib.pyplot as plt"
   ]
  },
  {
   "cell_type": "code",
   "execution_count": 6,
   "metadata": {},
   "outputs": [
    {
     "data": {
      "text/plain": [
       "Index(['n', 'recursive', 'algebraic', 'arithmetic'], dtype='object')"
      ]
     },
     "execution_count": 6,
     "metadata": {},
     "output_type": "execute_result"
    }
   ],
   "source": [
    "column = measurment.columns\n",
    "column"
   ]
  },
  {
   "cell_type": "code",
   "execution_count": 7,
   "metadata": {},
   "outputs": [
    {
     "data": {
      "image/png": "[encoded data removed]",
      "text/plain": [
       "<Figure size 432x288 with 1 Axes>"
      ]
     },
     "metadata": {
      "needs_background": "light"
     },
     "output_type": "display_data"
    }
   ],
   "source": [
    "m = measurment[['n', 'recursive', 'algebraic', 'arithmetic']]\n",
    "plt.plot(m['n'], m['recursive'], color='blue')\n",
    "plt.xlabel('n')\n",
    "plt.show()"
   ]
  },
  {
   "cell_type": "code",
   "execution_count": 9,
   "metadata": {},
   "outputs": [
    {
     "data": {
      "image/png": "[encoded data removed]",
      "text/plain": [
       "<Figure size 432x288 with 1 Axes>"
      ]
     },
     "metadata": {
      "needs_background": "light"
     },
     "output_type": "display_data"
    }
   ],
   "source": [
    "m = measurment[['n', 'recursive', 'algebraic', 'arithmetic']]\n",
    "plt.plot(m['n'], m['algebraic'], color='red')\n",
    "plt.xlabel('n')\n",
    "plt.show()"
   ]
  },
  {
   "cell_type": "code",
   "execution_count": 10,
   "metadata": {},
   "outputs": [
    {
     "data": {
      "image/png": "[encoded data removed]",
      "text/plain": [
       "<Figure size 432x288 with 1 Axes>"
      ]
     },
     "metadata": {
      "needs_background": "light"
     },
     "output_type": "display_data"
    }
   ],
   "source": [
    "m = measurment[['n', 'recursive', 'algebraic', 'arithmetic']]\n",
    "plt.plot(m['n'], m['arithmetic'], color='green')\n",
    "plt.xlabel('n')\n",
    "plt.show()"
   ]
  },
  {
   "cell_type": "code",
   "execution_count": 11,
   "metadata": {},
   "outputs": [],
   "source": [
    "from sklearn.preprocessing import MinMaxScaler"
   ]
  },
  {
   "cell_type": "code",
   "execution_count": 12,
   "metadata": {},
   "outputs": [
    {
     "data": {
      "text/plain": [
       "array([[1.00000e+01, 3.86990e-02, 6.30000e-03, 3.63320e-02],\n",
       "       [2.00000e+01, 1.00679e-01, 5.02200e-03, 6.66190e-02],\n",
       "       [4.00000e+01, 3.88732e-01, 6.73700e-03, 1.36543e-01],\n",
       "       [8.00000e+01, 1.31803e+00, 9.22300e-03, 2.36130e-01],\n",
       "       [1.60000e+02, 5.44337e+00, 1.63100e-02, 4.71463e-01],\n",
       "       [3.20000e+02, 2.15718e+01, 2.55140e-02, 1.00452e+00],\n",
       "       [6.40000e+02, 9.23551e+01, 4.23350e-02, 2.14208e+00],\n",
       "       [1.28000e+03, 3.93834e+02, 1.12218e-01, 4.38958e+00],\n",
       "       [2.56000e+03, 1.71227e+03, 2.11089e-01, 9.75733e+00],\n",
       "       [5.12000e+03, 7.22881e+03, 2.41351e-01, 2.04146e+01],\n",
       "       [1.02400e+04, 3.62121e+04, 6.99545e-01, 6.50405e+01],\n",
       "       [2.04800e+04, 1.85500e+05, 1.98725e+00, 1.33489e+02],\n",
       "       [4.09600e+04, 8.01145e+05, 3.65746e+00, 2.79822e+02],\n",
       "       [8.19200e+04, 3.39069e+06, 8.41751e+00, 5.90845e+02],\n",
       "       [1.63840e+05, 1.43707e+07, 1.67582e+01, 1.23528e+03]])"
      ]
     },
     "execution_count": 12,
     "metadata": {},
     "output_type": "execute_result"
    }
   ],
   "source": [
    "array = measurment.values\n",
    "array"
   ]
  },
  {
   "cell_type": "code",
   "execution_count": 13,
   "metadata": {},
   "outputs": [
    {
     "data": {
      "text/plain": [
       "array([[3.86990e-02, 6.30000e-03, 3.63320e-02],\n",
       "       [1.00679e-01, 5.02200e-03, 6.66190e-02],\n",
       "       [3.88732e-01, 6.73700e-03, 1.36543e-01],\n",
       "       [1.31803e+00, 9.22300e-03, 2.36130e-01],\n",
       "       [5.44337e+00, 1.63100e-02, 4.71463e-01],\n",
       "       [2.15718e+01, 2.55140e-02, 1.00452e+00],\n",
       "       [9.23551e+01, 4.23350e-02, 2.14208e+00],\n",
       "       [3.93834e+02, 1.12218e-01, 4.38958e+00],\n",
       "       [1.71227e+03, 2.11089e-01, 9.75733e+00],\n",
       "       [7.22881e+03, 2.41351e-01, 2.04146e+01],\n",
       "       [3.62121e+04, 6.99545e-01, 6.50405e+01],\n",
       "       [1.85500e+05, 1.98725e+00, 1.33489e+02],\n",
       "       [8.01145e+05, 3.65746e+00, 2.79822e+02],\n",
       "       [3.39069e+06, 8.41751e+00, 5.90845e+02],\n",
       "       [1.43707e+07, 1.67582e+01, 1.23528e+03]])"
      ]
     },
     "execution_count": 13,
     "metadata": {},
     "output_type": "execute_result"
    }
   ],
   "source": [
    "X = array[:,1:]\n",
    "X"
   ]
  },
  {
   "cell_type": "code",
   "execution_count": 14,
   "metadata": {},
   "outputs": [
    {
     "data": {
      "text/plain": [
       "array([[0.00000000e+00, 7.62840340e-05, 0.00000000e+00],\n",
       "       [4.31294232e-09, 0.00000000e+00, 2.45190490e-05],\n",
       "       [2.43574078e-08, 1.02368637e-04, 8.11265037e-05],\n",
       "       [8.90235690e-08, 2.50758393e-04, 1.61747844e-04],\n",
       "       [3.76089614e-07, 6.73782610e-04, 3.52263291e-04],\n",
       "       [1.49840307e-06, 1.22317091e-03, 7.83803249e-04],\n",
       "       [6.42393212e-06, 2.22721922e-03, 1.70472276e-03],\n",
       "       [2.74026528e-05, 6.39854719e-03, 3.52420183e-03],\n",
       "       [1.19147384e-04, 1.23001737e-02, 7.86970073e-03],\n",
       "       [5.03021517e-04, 1.41065176e-02, 1.64973669e-02],\n",
       "       [2.51985369e-03, 4.14561942e-02, 5.26245709e-02],\n",
       "       [1.29082064e-02, 1.18319521e-01, 1.08037524e-01],\n",
       "       [5.57484996e-02, 2.18014636e-01, 2.26502410e-01],\n",
       "       [2.35944663e-01, 5.02142817e-01, 4.78293217e-01],\n",
       "       [1.00000000e+00, 1.00000000e+00, 1.00000000e+00]])"
      ]
     },
     "execution_count": 14,
     "metadata": {},
     "output_type": "execute_result"
    }
   ],
   "source": [
    "scaler = MinMaxScaler(feature_range=(0, 1))\n",
    "rescaledX = scaler.fit_transform(X)\n",
    "rescaledX"
   ]
  },
  {
   "cell_type": "code",
   "execution_count": 15,
   "metadata": {},
   "outputs": [
    {
     "data": {
      "text/plain": [
       "array([[1.0000e+01],\n",
       "       [2.0000e+01],\n",
       "       [4.0000e+01],\n",
       "       [8.0000e+01],\n",
       "       [1.6000e+02],\n",
       "       [3.2000e+02],\n",
       "       [6.4000e+02],\n",
       "       [1.2800e+03],\n",
       "       [2.5600e+03],\n",
       "       [5.1200e+03],\n",
       "       [1.0240e+04],\n",
       "       [2.0480e+04],\n",
       "       [4.0960e+04],\n",
       "       [8.1920e+04],\n",
       "       [1.6384e+05]])"
      ]
     },
     "execution_count": 15,
     "metadata": {},
     "output_type": "execute_result"
    }
   ],
   "source": [
    "#n fix for all\n",
    "n = array[:,:1]\n",
    "n"
   ]
  },
  {
   "cell_type": "code",
   "execution_count": 16,
   "metadata": {},
   "outputs": [
    {
     "data": {
      "text/plain": [
       "array([[0.00000000e+00],\n",
       "       [6.10388818e-05],\n",
       "       [1.83116645e-04],\n",
       "       [4.27272172e-04],\n",
       "       [9.15583227e-04],\n",
       "       [1.89220533e-03],\n",
       "       [3.84544955e-03],\n",
       "       [7.75193798e-03],\n",
       "       [1.55649149e-02],\n",
       "       [3.11908686e-02],\n",
       "       [6.24427760e-02],\n",
       "       [1.24946591e-01],\n",
       "       [2.49954221e-01],\n",
       "       [4.99969481e-01],\n",
       "       [1.00000000e+00]])"
      ]
     },
     "execution_count": 16,
     "metadata": {},
     "output_type": "execute_result"
    }
   ],
   "source": [
    "scaler = MinMaxScaler(feature_range=(0, 1))\n",
    "rescaledn = scaler.fit_transform(n)\n",
    "rescaledn"
   ]
  },
  {
   "cell_type": "code",
   "execution_count": 18,
   "metadata": {},
   "outputs": [
    {
     "data": {
      "image/png": "[encoded data removed]",
      "text/plain": [
       "<Figure size 432x288 with 1 Axes>"
      ]
     },
     "metadata": {
      "needs_background": "light"
     },
     "output_type": "display_data"
    }
   ],
   "source": [
    "plt.plot(rescaledn, rescaledX[:,:1], color='blue')\n",
    "plt.plot(rescaledn, rescaledX[:,1:2], color='red')\n",
    "plt.plot(rescaledn, rescaledX[:,2:3], color='green')\n",
    "plt.xlabel('n')\n",
    "plt.show()"
   ]
  },
  {
   "cell_type": "code",
   "execution_count": null,
   "metadata": {},
   "outputs": [],
   "source": []
  }
 ],
 "metadata": {
  "kernelspec": {
   "display_name": "Python 3",
   "language": "python",
   "name": "python3"
  },
  "language_info": {
   "codemirror_mode": {
    "name": "ipython",
    "version": 3
   },
   "file_extension": ".py",
   "mimetype": "text/x-python",
   "name": "python",
   "nbconvert_exporter": "python",
   "pygments_lexer": "ipython3",
   "version": "3.7.1"
  }
 },
 "nbformat": 4,
 "nbformat_minor": 2
}
